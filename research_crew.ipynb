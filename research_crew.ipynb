{
 "cells": [
  {
   "cell_type": "markdown",
   "metadata": {},
   "source": [
    "# Libraries"
   ]
  },
  {
   "cell_type": "code",
   "execution_count": 21,
   "metadata": {},
   "outputs": [],
   "source": [
    "import pandas as pd\n",
    "import crewai\n",
    "from crewai import Agent, Task, Crew, Process\n",
    "import os\n",
    "from crewai_tools import SerperDevTool\n",
    "from crewai import LLM\n",
    "from dotenv import load_dotenv\n",
    "from crewai import Agent, Task, Crew, Process\n",
    "from crewai_tools import SerperDevTool"
   ]
  },
  {
   "cell_type": "markdown",
   "metadata": {},
   "source": [
    "# LLM"
   ]
  },
  {
   "cell_type": "code",
   "execution_count": 23,
   "metadata": {},
   "outputs": [],
   "source": [
    "load_dotenv()\n",
    "gpt = LLM(\n",
    "    model=\"gpt-4o-mini-2024-07-18\",\n",
    "    temperature=0.0,\n",
    "    top_p=0.1,\n",
    "    api_key=os.getenv(\"OPENAI_API_KEY\")\n",
    ")"
   ]
  },
  {
   "cell_type": "markdown",
   "metadata": {},
   "source": [
    "# Tool"
   ]
  },
  {
   "cell_type": "code",
   "execution_count": 24,
   "metadata": {},
   "outputs": [],
   "source": [
    "search_tool = SerperDevTool(\n",
    "    n_results= 3,\n",
    "    country=\"th\",\n",
    "    locale=\"tha\",\n",
    "    location=\"Thailand, Thai\",\n",
    ")\n",
    "os.environ[\"SERPER_API_KEY\"] = os.getenv(\"SERPER_API_KEY\")"
   ]
  },
  {
   "cell_type": "markdown",
   "metadata": {},
   "source": [
    "# Agent"
   ]
  },
  {
   "cell_type": "code",
   "execution_count": 25,
   "metadata": {},
   "outputs": [],
   "source": [
    "research_agent = Agent(\n",
    "    role=\"Data Researcher\",\n",
    "    goal=\"Gather the current price for various laptop and laptop models by searching\",\n",
    "    backstory=\"A dedicated researcher specializing in extracting product information.\",\n",
    "    tools=[search_tool],\n",
    "    memory=True,\n",
    "    verbose=True,\n",
    "    max_iter=5\n",
    ")"
   ]
  },
  {
   "cell_type": "markdown",
   "metadata": {},
   "source": [
    "# Task"
   ]
  },
  {
   "cell_type": "code",
   "execution_count": 26,
   "metadata": {},
   "outputs": [],
   "source": [
    "data_gathering_task = Task(\n",
    "    description=\"\"\"\n",
    "        Search for the following laptop model \"{brand_model}\" and collect data on:\n",
    "        - Current Price (in THB)\n",
    "        - Links to price information\n",
    "        \n",
    "        Ensure the information is accurate and sourced from trusted sites.\n",
    "        - If there is no available data, mark it as 'Unknown.'\n",
    "        - Please include links as evidence for each data point.\n",
    "    \"\"\",\n",
    "\n",
    "    expected_output=\"\"\" \n",
    "    A JSON object in this format:\n",
    "        \"search_model\": {brand_model},\n",
    "        \"laptop_model\": \"<laptop>\",\n",
    "        \"current_price_in_thb\": \"<current price in THB>\" in only numeric format,\n",
    "        \"current_price_link\": \"<link to source>\" \n",
    "    \"\"\",\n",
    "    tools=[search_tool],\n",
    "    agent=research_agent\n",
    ")"
   ]
  },
  {
   "cell_type": "markdown",
   "metadata": {},
   "source": [
    "# Crew"
   ]
  },
  {
   "cell_type": "code",
   "execution_count": null,
   "metadata": {},
   "outputs": [],
   "source": [
    "crew = Crew(\n",
    "    agents=[research_agent],\n",
    "    tasks=[data_gathering_task],\n",
    "    process=Process.sequential\n",
    ")"
   ]
  },
  {
   "cell_type": "markdown",
   "metadata": {},
   "source": [
    "# Data Example"
   ]
  },
  {
   "cell_type": "code",
   "execution_count": 37,
   "metadata": {},
   "outputs": [
    {
     "data": {
      "text/html": [
       "<div>\n",
       "<style scoped>\n",
       "    .dataframe tbody tr th:only-of-type {\n",
       "        vertical-align: middle;\n",
       "    }\n",
       "\n",
       "    .dataframe tbody tr th {\n",
       "        vertical-align: top;\n",
       "    }\n",
       "\n",
       "    .dataframe thead th {\n",
       "        text-align: right;\n",
       "    }\n",
       "</style>\n",
       "<table border=\"1\" class=\"dataframe\">\n",
       "  <thead>\n",
       "    <tr style=\"text-align: right;\">\n",
       "      <th></th>\n",
       "      <th>Laptops</th>\n",
       "    </tr>\n",
       "  </thead>\n",
       "  <tbody>\n",
       "    <tr>\n",
       "      <th>0</th>\n",
       "      <td>HP Victus 15.6 inch Gaming Laptop 15-fa1093TX</td>\n",
       "    </tr>\n",
       "    <tr>\n",
       "      <th>1</th>\n",
       "      <td>ThinkPad E16 G2</td>\n",
       "    </tr>\n",
       "    <tr>\n",
       "      <th>2</th>\n",
       "      <td>Apple 15\" MacBook Air M2</td>\n",
       "    </tr>\n",
       "  </tbody>\n",
       "</table>\n",
       "</div>"
      ],
      "text/plain": [
       "                                         Laptops\n",
       "0  HP Victus 15.6 inch Gaming Laptop 15-fa1093TX\n",
       "1                                ThinkPad E16 G2\n",
       "2                       Apple 15\" MacBook Air M2"
      ]
     },
     "execution_count": 37,
     "metadata": {},
     "output_type": "execute_result"
    }
   ],
   "source": [
    "df = pd.read_csv(\"laptops_model.csv\")\n",
    "df.head(3)"
   ]
  },
  {
   "cell_type": "markdown",
   "metadata": {},
   "source": [
    "# Usage"
   ]
  },
  {
   "cell_type": "code",
   "execution_count": 28,
   "metadata": {},
   "outputs": [],
   "source": [
    "from datetime import datetime\n",
    "import csv\n",
    "import time\n",
    "import random\n",
    "\n",
    "def load_laptop_data(file_path):\n",
    "    with open(file_path, 'r') as file:\n",
    "        reader = csv.reader(file)\n",
    "        next(reader)  # Skip header if present\n",
    "        return [row[0] for row in reader]\n",
    "\n",
    "\n",
    "csv_file_path = \"laptops_model.csv\"\n",
    "laptops_list = load_laptop_data(csv_file_path)\n",
    "\n",
    "# from row to row\n",
    "def run_batch(start, end):\n",
    "    for laptop in laptops_list[start:end]:\n",
    "        print(f\"Gathering data for {laptop}\")\n",
    "        time.sleep(random.uniform(2, 4))\n",
    "        result = crew.kickoff(inputs={'brand_model': laptop})\n",
    "        print(result)\n",
    "        now = datetime.now()\n",
    "        current = now.strftime(\"%Y-%m-%d %H:%M:%S\")\n",
    "        print(current)"
   ]
  },
  {
   "cell_type": "code",
   "execution_count": null,
   "metadata": {},
   "outputs": [],
   "source": [
    "run_batch(0,101)"
   ]
  }
 ],
 "metadata": {
  "kernelspec": {
   "display_name": "Python 3",
   "language": "python",
   "name": "python3"
  },
  "language_info": {
   "codemirror_mode": {
    "name": "ipython",
    "version": 3
   },
   "file_extension": ".py",
   "mimetype": "text/x-python",
   "name": "python",
   "nbconvert_exporter": "python",
   "pygments_lexer": "ipython3",
   "version": "3.11.4"
  }
 },
 "nbformat": 4,
 "nbformat_minor": 2
}
